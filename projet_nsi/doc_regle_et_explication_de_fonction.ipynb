{
 "cells": [
  {
   "attachments": {},
   "cell_type": "markdown",
   "metadata": {},
   "source": [
    "# <div style = \"text-align : center;\"><span style=\"border: 2px solid;padding:6px;color:dodgerblue;\">Projet NSI</span></div> #\n",
    "\n",
    "### <span style=\"text-decoration: underline;color:red;\">Presentation</span> : ###\n",
    "le projet s'appelle ____ et est inspirer du jeu BRAIN TRAINING sur DS<br>\n",
    "Le but est de repondre à une equation en ecrivant \"à la main\" sousentendu ecrit non pas avec le clavier mais avec la souris<br>\n",
    "<br>\n",
    "\n",
    "### <span style=\"text-decoration: underline;color:green;\">les Bibliothèque utilisé</span> : ###\n",
    "<u>pour executé main:</u> <br>\n",
    "<b>pygame</b> -> permet de creer le jeu <br>\n",
    "<b>numpy</b> -> permet de creer des matrice, est utilisé pour le réseau de neurone <br>\n",
    "random -> permet de generer des nombres aléatoire <br>\n",
    "copy -> créer une copy d'une variable <br>\n",
    "<b>pickle</b> -> permet d'enregister et d'importer des ficher, est utilisé pour sauvegarder les paras du réseau de neurone entrainé <br>\n",
    "<br>\n",
    "<u>pour entrainé le réseau (nombre.ipynb):</u> <br>\n",
    "<b>sklearn.metrics</b> -> permet de voire la ressemblance entre deux matrices, permet de voir l'efficacité du réseau de neurone <br>\n",
    "<b>matplotlib.pyplot</b> -> permet de representé des courbes, permet de visualisé l'efficacité du réseau de neurone au cours du temps <br>\n",
    "<b>tqdm</b> -> permet de voir la progretion d'une boucle for <br>\n",
    "<b>IPython.display</b> -> attendre pour effacer l'output jusqu'à ce qu'un nouvel output soit disponible pour la remplacer <br>\n",
    "warnings -> controle les msg d'erreur, permet de les eviter lors de calcul d'exp qui tant vers un infini <br>\n",
    "time -> controle du temps <br>\n",
    "\n",
    "<br>\n",
    "\n",
    "### <span style=\"text-decoration: underline;color:lightblue;\">Comment jouer</span> : ###\n",
    "l'objectif du jeu est de repondre au plus vite a l'équation qui nous est soumise dans la partie gauche <br>\n",
    "pour cela, il faut ecrire avec la souris dans l'un des carrés à droite <br>\n",
    "<br>\n",
    "si le resultat attendu comporte deux chiffres, il faut alors en écrire un par carré  <br>\n",
    "<br>\n",
    "notre réseau de neurones artificielle tentera de déchiffré votre écriture et de lire ce qu'il y a écrit <br>\n",
    "cela sera afficher dans la case au dessus des carrés <br>\n",
    "<br>\n",
    "si vous pensez vous être tromper ou bien si le réseau de neuronnes n'a pas réussit a lire le chiffre que vous avez écrit, <br>\n",
    "il est possible d'effacer la case, pour cela il faut cliquer sur le bouton 'erase' correspondant a la case qui doit etre effacer <br>\n",
    "<br>\n",
    "si au contraire, votre écriture a été dechiffré, vous pouver validez votre reponse en cliquand sur le bouton 'submit' en bas à droite, <br>\n",
    "pour pouvoir passé à la suivant en appuyant sur la touche espace<br>\n",
    "<br>\n",
    "l'objectif en tant que joueur est donc d'essayer de repondre à un max d'equation possible dans le temps impartit<br>\n",
    "\n",
    "### <span style=\"text-decoration: underline;color:yellow;\">remarque</span> : ###\n",
    "\n",
    "-> lorsque un résultat avec 1 seul chiffres est attendu, il ne faut pas mettre de 0 devant, il suffit de choisire l'une des case et d'y mettre la réponse <br>\n",
    "-> il ne faut pas écrire deux nombres dans la même case <br>\n",
    "-> certaine nombre peuvent être compliqué a reconnaitre, du au fait que les nombres ont souvent été enregister qu'avec 1 paterne <br>\n",
    "\n"
   ]
  },
  {
   "attachments": {},
   "cell_type": "markdown",
   "metadata": {},
   "source": [
    "![title](dossier_pour_doc\\nombre.PNG) <br>\n",
    "voici le type d'ecriture que le réseau de neuronne lis le mieux"
   ]
  },
  {
   "attachments": {},
   "cell_type": "markdown",
   "metadata": {},
   "source": [
    "## <div style = \"text-align : center;\"> <span style=\"color:dodgerblue;\">Explication de toute les fonctions:</span> </div> ##\n",
    "\n",
    "##### <span style=\"text-decoration: underline\">fonction simples</span> : #####"
   ]
  },
  {
   "attachments": {},
   "cell_type": "markdown",
   "metadata": {},
   "source": [
    "![title](dossier_pour_doc\\calcul.PNG)"
   ]
  },
  {
   "attachments": {},
   "cell_type": "markdown",
   "metadata": {},
   "source": [
    "voici, ce qui est surement les deux fonctions les plus simples du code, mais elles sont parmis les plus importantes <br>\n",
    "la première est celle qui créer le calcul auquelle il faut repondre<br>\n",
    "quand à la deuxieme, elle revoie le résultat attendu au calcul posé"
   ]
  },
  {
   "attachments": {},
   "cell_type": "markdown",
   "metadata": {},
   "source": [
    "![title](dossier_pour_doc\\utilisation_reseau_neurone.PNG)"
   ]
  },
  {
   "attachments": {},
   "cell_type": "markdown",
   "metadata": {},
   "source": [
    "ces fonction quand a elle permettent de lire une image <br>\n",
    "si on insere dans la fonction lisible, une array de taille (784,1) ainsi que le reseau de la classe utilisation_reseau_de_neurone <br>\n",
    "elle nous renvera une chaine du nombre que notre reseau de neuronnes lis <br>"
   ]
  },
  {
   "attachments": {},
   "cell_type": "markdown",
   "metadata": {},
   "source": [
    "![title](dossier_pour_doc\\diagrame_de_3Blue1Brown.PNG)\n",
    "_tiré de 3Blue1Brown_"
   ]
  },
  {
   "attachments": {},
   "cell_type": "markdown",
   "metadata": {},
   "source": [
    "la class utilisation_reseau_de_neurone, pour pouvoir lire, utilise: <br>\n",
    "&nbsp;&nbsp; -> les parametres des neuronnes qu'elle importe d'un ficher (nous verons comme creer ce ficher lorsque nous verons l'entrainement du reseau) <br>\n",
    "&nbsp;&nbsp; -> la methode appelé 'forward_propagation' qui se base sur le principe du deep learning du meme nom <br>\n",
    "&nbsp;&nbsp; -> et la methode predict (qui est la seul que nous alons detaillé maintenant) <br>\n",
    "la methode predict envoie une array (de taille (784, n)) dans le réseau de neuronne et y ressort une array (de taille (10,n)) qui correspond au activations de la dernière couche du réseau <br>\n",
    "apres avoir récupérer cette array, la fonction lisible en recuperer l'index maximal qui corespond au chiffre qui est lu <br>"
   ]
  },
  {
   "attachments": {},
   "cell_type": "markdown",
   "metadata": {},
   "source": [
    "![title](dossier_pour_doc\\taille0.PNG)\n",
    "![title](dossier_pour_doc\\taille1.PNG)"
   ]
  },
  {
   "attachments": {},
   "cell_type": "markdown",
   "metadata": {},
   "source": [
    "ces trois fonctions font partis des moins intuitives, <br>\n",
    "mais sont essentielle au bon fonctionnement du code <br>\n",
    "<br>\n",
    "avant de les détailler il semble qui faut expliqué pourquoi sont elle obligatoire <br>\n",
    "<br>\n",
    "pour pouvoir avoir un reseau de neuronne capable de reconnaitre avec efficacité des nombres écrit, il faut l'entainé <br>\n",
    "l'entrainé beaucoup, mais surtout, l'entrainé avec beacoup, il faut qu'il reconnaisse l'ecriture de n'importe qui <br>\n",
    "pour cela nous avons utilisé la base de donné MNIST, qui regroupe 60000 image de 28x28 pixel <br>\n",
    "mais voila le probleme, pour un confort du joueur, on ne peut lui faire dessiné sur un carré de 28pixel de coté <br>\n",
    "<br> \n",
    "ces pour cela que ces fonction sont la, apres avoir faire dessiner le joueur sur un carré de 252 pixel<br>\n",
    "_pourquoi 252? car 252 est un multiple de 28 (28x9) c'est a la fois sufisament grand pour le joueur, <br>\n",
    "et sufisament petit pour que le passage de 252 à 28 ne soit pas trop illisible_<br>\n",
    "donc pour passer de 252 à 28, nous avons dessidé d'utilisé 3 fonction: <br>\n",
    "<br>\n",
    "&nbsp;&nbsp; -> d'abord on enleve tous les contours, en générale les joueurs ne vont pas utilisé tous l'espaces qui ont a dispossition,\n",
    "c'est pour cela que nous enlevons a l'array de taille (252,252) toute les collones et lignes venant des 4 directions, jusqu'a en trouver une qui possède 1 pixel colloré <br>\n",
    "<br>\n",
    "&nbsp;&nbsp; -> mais voila que nous avons une array de taille aléatoire, on utilse donc la fonction mise a multiple, qui rajoute des marge des 4cotés pour atteindre un carré de taille formant un multiple de 28 (on créer d'ailleur des marges suplementaire (qui atteingne alors le multiple supérieur), car dans la base de donné aucun chiffre ne cole le bord)  <br>\n",
    "<br>\n",
    "&nbsp;&nbsp; -> maintenant il faut transformé cette array de taille multiple de 28 en array de taille 28, c'est la où viens la dernière fonction 'remise à bonne taille', pour faire simple, elle convertit n pixel en 1 pixel (n = taille/28) en fessant la moyenne du petit carré <br>\n",
    "<br>\n",
    "ces trois fonction permettent de convertir le dessin que vous dessiné, au format qui peut etre utilisé par notre réseau de neurones <br>\n",
    "sufit plus qu'a les cumuler:\n"
   ]
  },
  {
   "attachments": {},
   "cell_type": "markdown",
   "metadata": {},
   "source": [
    "![title](dossier_pour_doc\\taille2.PNG)"
   ]
  },
  {
   "attachments": {},
   "cell_type": "markdown",
   "metadata": {},
   "source": [
    "##### <span style=\"text-decoration: underline\">fonction complexes</span> : #####"
   ]
  },
  {
   "attachments": {},
   "cell_type": "markdown",
   "metadata": {},
   "source": [
    "![title](dossier_pour_doc\\reseau_neurone0.PNG)"
   ]
  },
  {
   "attachments": {},
   "cell_type": "markdown",
   "metadata": {},
   "source": [
    "![title](dossier_pour_doc\\reseau_neurone1.PNG)"
   ]
  },
  {
   "attachments": {},
   "cell_type": "markdown",
   "metadata": {},
   "source": [
    "voici une classe apartenant au ficher nombre.ipynb <br>\n",
    "c'est de loin la parti du code la plus importante, <br>\n",
    "c'est le reseau de neuronne artificielle <br>\n",
    "<br>\n",
    "mais avant de detailé le code, voyons comment l'utilisé et de quoi est il capable:<br>\n",
    "apres avoir importé la base de donné et mis: X l'array contenant les images et y les resultat <br>\n",
    "\n"
   ]
  },
  {
   "attachments": {},
   "cell_type": "markdown",
   "metadata": {},
   "source": [
    "![title](dossier_pour_doc\\entrainement.PNG)"
   ]
  },
  {
   "attachments": {},
   "cell_type": "markdown",
   "metadata": {},
   "source": [
    "_les parties en vert permette de sauvegarder les parametres des neurones dans un ficher .pkl et de les reutilisé pour la prochaine session d'entrainement, ainsi on peut realisé beaucoup d'entrainment sans les faire en 1 seul coup, et surtout cela permet de ne pas avoir a lancé un entrainement de 1 heure chaque fois avant de lancer le jeu_ <br> \n",
    "<br>\n",
    "tous d'abord on initialise le reseau et on lui donne sont nombre de couche et sont nombre de neurones pas couche,\n",
    "ici on voit que nous avons deux couche centrale de 48 neuronnes chaqun <br>\n",
    "de plus lors de l'initialisation on choisit le learning rate, apres plusieur test nous l'avons mis à 0.1, \n",
    "<br>\n",
    "<br>\n",
    "apres avoir initalisé notre réseau de neurone nommé reseau1, <br>\n",
    "il est temps de l'entrainé, pour cela on utilise notre base de donné, (array X, et y), <br>\n",
    "et on choisit le nombre de répition des calcul, permetant d'equilibre les parametres des neuronnes, qui permettrons de reconnaitre avec presition les nombres, <br>\n",
    "plus ce nombre est grand, meilleur sera notre réseau de neurone, mais celui ci a des limite, imposé par le nombre de neurones et son nombre de couche <br>\n",
    "apres plus de 5000 répétition nous avons clairement remarqué celle ci, en effet notre réseau s'ameliorait de plus en plus lentement <br>\n",
    "le graphique si dessous montre l'amélioration de 4000 répétition à 4500 répétition <br> "
   ]
  },
  {
   "attachments": {},
   "cell_type": "markdown",
   "metadata": {},
   "source": [
    "![title](dossier_pour_doc\\graphique.PNG)"
   ]
  },
  {
   "attachments": {},
   "cell_type": "markdown",
   "metadata": {},
   "source": [
    "et pour faire ces 500 répétition 15 minute était nécessaier <br>\n",
    "mais les \"95%\" de réussite nous satisfessait largement, surtout, que lorsque le résultat qui nous donnais n'etait pas bon, il était toujours en 2eme position<br>\n",
    "ce n'est en réalité pas 95% pourcent de réussite que nous observons, mais 80% lorsque nous essayons de lire sur la base de donné d'entrainment et entre 60 et 75 % lorsque le joueur joue."
   ]
  },
  {
   "attachments": {},
   "cell_type": "markdown",
   "metadata": {},
   "source": [
    "![title](dossier_pour_doc\\resultat.PNG)"
   ]
  },
  {
   "attachments": {},
   "cell_type": "markdown",
   "metadata": {},
   "source": [
    "dans le cas ou les résultat aurait été insatisfessant, <br>\n",
    "nous aurions eu deux choix: <br>\n",
    "&nbsp;&nbsp; -> augmenté le nombre de couche, comme par exemple avoir comme couche centrale : (48,48,48) <br>\n",
    "&nbsp;&nbsp; -> augmenter le nombre de neuronne par couche, pour avoir comme couche centrale : (128,128) <br>\n",
    "-> ou bien réunire les deux pour avoir comme couche centraile (128,128,128) <br>\n",
    "mais ceux ci ne montrait pas de résultat sinificatiment supérieur, donc nous avons dessidé de garder de un réseau de neuronne simple et rapide à entrainer <br>\n",
    "\n"
   ]
  },
  {
   "attachments": {},
   "cell_type": "markdown",
   "metadata": {},
   "source": [
    "##### <span style=\"text-decoration: underline\">fonction réseau de neurone</span> #####"
   ]
  },
  {
   "attachments": {},
   "cell_type": "markdown",
   "metadata": {},
   "source": [
    "![title](dossier_pour_doc\\init.PNG)"
   ]
  },
  {
   "attachments": {},
   "cell_type": "markdown",
   "metadata": {},
   "source": [
    "la méthode constructeur permet de créer un immense dictionaire dans lequel les parametres de chaque neuronne sont sauvegarder; <br>\n",
    "lorsque le joueur joue, au lieu de réentrainé le réseau de neurone, il suffit d'importé un dico qui est deja entrainé et que nous avons sauvegardé "
   ]
  },
  {
   "attachments": {},
   "cell_type": "markdown",
   "metadata": {},
   "source": [
    "![title](dossier_pour_doc\\forward.PNG)"
   ]
  },
  {
   "attachments": {},
   "cell_type": "markdown",
   "metadata": {},
   "source": [
    "cette fonction suit les fonctions mathématiques de la forward propagation traditionel\n",
    "<br>\n",
    "$ Z^{[i]} = W^{[i]} * A^{[i-1]} + B^{[i]} $ <br>\n",
    "dans ce code on utilise une fonction sygmoide pour l'activation <br>\n",
    "$ A^{[i]} = \\frac{1}{1+e^{-Z^{[i]}}} $ <br> mais on aurait pu utilisé la fonction reLU: max(Z,0) <br>\n",
    "ou bien la fonction 1*(Z>0) qui est une fonction qui renvoie 0 ou 1"
   ]
  },
  {
   "attachments": {},
   "cell_type": "markdown",
   "metadata": {},
   "source": [
    "![title](dossier_pour_doc\\backward.PNG)"
   ]
  },
  {
   "attachments": {},
   "cell_type": "markdown",
   "metadata": {},
   "source": [
    "idem pour la back propagation, les fonctions traditionnel de la descente de gradiant sont utilisé: <br> <br>\n",
    "$\\frac{\\partial L}{\\partial W_t} = \\frac{1}{m} × dZ_t × A^{[t-1]^{T}} $ <br>\n",
    "<br>\n",
    "$\\frac{\\partial L}{\\partial b_t} = \\frac{1}{m} ×  \\sum_{axe \\ 1} dZ_t $ <br> <br>\n",
    "avec $dZ_t$ defini par :\n",
    "<br>  <br>\n",
    "$  W_{t}^{T} × dZ_{t-1} × A^{[t-1]} × (1 - A^{[t-1]}) $  <br> \n",
    "si t n'est pas égal à n-1 (le dernier) sinon c'est $dZ_t$ est defini par: <br> \n",
    "$ A^{[t]} - y $ "
   ]
  },
  {
   "attachments": {},
   "cell_type": "markdown",
   "metadata": {},
   "source": [
    "![title](dossier_pour_doc\\update.PNG)"
   ]
  },
  {
   "attachments": {},
   "cell_type": "markdown",
   "metadata": {},
   "source": [
    "la fonction update permet de a jour les parametres du réseau de neurone, il suit les fonctions suivante: <br>\n",
    "$ \\underset{t+1}{W} = \\underset{t}{W} -\\alpha × \\frac{\\partial L}{\\partial W_t}  \\\\\n",
    "\\underset{t+1}{b} = \\underset{t}{b} - \\alpha × \\frac{\\partial L}{\\partial b_t}  $\n",
    "\n",
    "le alpha étant un parametre que l'on a défini idéal à 0.1, car après plusieur test il est celui qui converge le plus rapidement vers les \"95%\" de réussite "
   ]
  },
  {
   "attachments": {},
   "cell_type": "markdown",
   "metadata": {},
   "source": [
    "![title](dossier_pour_doc\\entrainement_sigmo.PNG)"
   ]
  },
  {
   "attachments": {},
   "cell_type": "markdown",
   "metadata": {},
   "source": [
    "voici la fonction final, celle qui entraine le réseau de neurone <br>\n",
    "elle boucle n_iter fois (dans notre cas c'est un total de 5000 fois) <br>\n",
    "et a chaque tour de boucle elle calcule les d'activations permettant pour toute la matrice X de trouver le résultat final; <br>\n",
    "puis retourne en arrière avec la backpropagation en comparant les activation avec la matrice y de résulat attendu <br>\n",
    "puis modifie les parametres du réseau pour que au prochain tour de boucle le réseau ce soit amélioré <br>\n",
    "<br>\n",
    "en plus de cela nous avons ajouter un algo qui permet de visulisé, avec une courbe affichable avec la méthode 'afficher_courbe', <br>\n",
    "l'évolution de l'éfficacité du réseau en fonction du nombre d'iteration, ainsi que du loss ou plutot logloss, qui permet "
   ]
  },
  {
   "cell_type": "markdown",
   "metadata": {},
   "source": []
  }
 ],
 "metadata": {
  "kernelspec": {
   "display_name": "base",
   "language": "python",
   "name": "python3"
  },
  "language_info": {
   "codemirror_mode": {
    "name": "ipython",
    "version": 3
   },
   "file_extension": ".py",
   "mimetype": "text/x-python",
   "name": "python",
   "nbconvert_exporter": "python",
   "pygments_lexer": "ipython3",
   "version": "3.9.13"
  },
  "orig_nbformat": 4,
  "vscode": {
   "interpreter": {
    "hash": "bfa18828ba8c926e1127bff2dde72e83e346c8f2416c30ccce80ec429eddf431"
   }
  }
 },
 "nbformat": 4,
 "nbformat_minor": 2
}
